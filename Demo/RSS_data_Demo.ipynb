{
 "cells": [
  {
   "cell_type": "code",
   "execution_count": null,
   "metadata": {},
   "outputs": [],
   "source": [
    "from kafka import KafkaProducer\n",
    "from cassandra.cluster import Cluster\n",
    "from cassandra.auth import PlainTextAuthProvider\n",
    "\n",
    "import tkinter as tk\n",
    "\n",
    "import requests\n",
    "import json\n",
    "import pandas as pd\n",
    "from requests_html import HTML\n",
    "from requests_html import HTMLSession\n",
    "\n",
    "from bs4 import XMLParsedAsHTMLWarning\n",
    "import warnings\n",
    "warnings.filterwarnings(\"ignore\", category=XMLParsedAsHTMLWarning)\n",
    "warnings.filterwarnings(\"ignore\", message=\"La méthode frame.append est obsolète et sera supprimée des pandas dans le futur version. Utilisez pandas.concat à la place.\")\n",
    "warnings.filterwarnings(\"ignore\", message=\"The frame.append method is deprecated and will be removed from pandas in a future version. Use pandas.concat instead.\")"
   ]
  },
  {
   "cell_type": "code",
   "execution_count": null,
   "metadata": {},
   "outputs": [],
   "source": [
    "#Retourne le code source de l'URL qui est passé en paramètre\n",
    "def get_source(url):\n",
    "    try:\n",
    "        session = HTMLSession()\n",
    "        response = session.get(url)\n",
    "        return response\n",
    "\n",
    "    except requests.exceptions.RequestException as e:\n",
    "        print(e)"
   ]
  },
  {
   "cell_type": "code",
   "execution_count": null,
   "metadata": {},
   "outputs": [],
   "source": [
    "#Retourne un dataFrame qui contient le contenu du flux RSS passé en paramètre\n",
    "def get_feed(url):   \n",
    "    response = get_source(url)\n",
    "    \n",
    "    df = pd.DataFrame(columns = ['title', 'pubDate', 'link', 'description'])\n",
    "\n",
    "    with response as r:\n",
    "        items = r.html.find(\"item\", first=False)\n",
    "\n",
    "        for item in items:        \n",
    "\n",
    "            title = item.find('title', first=True).text\n",
    "            pubDate = item.find('pubDate', first=True).text\n",
    "            link = item.find('guid', first=True).text\n",
    "            description = item.find('description', first=True).text\n",
    "\n",
    "\n",
    "            row = {'title': title, 'pubDate': pubDate, 'link': link, 'description': description}\n",
    "            df = df.append(row, ignore_index=True)\n",
    "\n",
    "    return df"
   ]
  },
  {
   "cell_type": "code",
   "execution_count": null,
   "metadata": {},
   "outputs": [],
   "source": [
    "#Permet à l'utilisateur de sélectionner les sites internet qu'il veut consulter parmi une liste prédéfinie\n",
    "#Retourne une liste qui contient ces sites \n",
    "def ouvrir_fenetre():\n",
    "    sites = {\n",
    "        \"Le Monde\": \"https://www.lemonde.fr/rss/une.xml\",\n",
    "        \"Le Figaro\": \"https://www.lefigaro.fr/rss/figaro_actualites.xml\",\n",
    "        \"France Info\": \"https://www.francetvinfo.fr/titres.rss\",\n",
    "        \"Ouest-France\": \"https://www.ouest-france.fr/rss/une.xml\",\n",
    "        \"20 Minutes\": \"https://www.20minutes.fr/feeds/rss-une.xml\",\n",
    "        \"BFM TV\": \"https://www.bfmtv.com/rss/info/flux-rss/flux-toutes-les-actualites/\",\n",
    "        \"France 24\": \"https://www.france24.com/fr/rss\",\n",
    "        \"L'Equipe\": \"https://www.lequipe.fr/rss/actu_rss_Football.xml\",\n",
    "        \"Actu IA\": \"https://www.actuia.com/feed/\",\n",
    "    }\n",
    "\n",
    "    def ajouter_site():\n",
    "        selection.clear()\n",
    "        for site in listebox.curselection():\n",
    "            nom_site = listebox.get(site)\n",
    "            selection.append(sites[nom_site])\n",
    "        fenetre.quit()\n",
    "\n",
    "    fenetre = tk.Tk()\n",
    "\n",
    "    listebox = tk.Listbox(fenetre, selectmode=tk.MULTIPLE)\n",
    "    for site in sites:\n",
    "        listebox.insert(tk.END, site)\n",
    "\n",
    "    bouton_ajouter = tk.Button(fenetre, text=\"Ajouter\", command=ajouter_site)\n",
    "\n",
    "    selection = []\n",
    "\n",
    "    listebox.grid(row=0, column=0)\n",
    "    bouton_ajouter.grid(row=1, column=0)\n",
    "\n",
    "    fenetre.mainloop()\n",
    "\n",
    "    return selection"
   ]
  },
  {
   "cell_type": "code",
   "execution_count": null,
   "metadata": {},
   "outputs": [],
   "source": [
    "#Appel de la fonction\n",
    "urls=ouvrir_fenetre()\n",
    "urls"
   ]
  },
  {
   "cell_type": "code",
   "execution_count": null,
   "metadata": {},
   "outputs": [],
   "source": [
    "# Création du dataFrame en fonction des sites sélectionnés\n",
    "dfs = []\n",
    "for url in urls:\n",
    "    df = get_feed(url)\n",
    "    dfs.append(df)\n",
    "\n",
    "# Fusion des dataFrame en un seul\n",
    "data = pd.concat(dfs, ignore_index=True)"
   ]
  },
  {
   "cell_type": "code",
   "execution_count": null,
   "metadata": {},
   "outputs": [],
   "source": [
    "#Nettoyage des données \n",
    "data['title'] = data['title'].apply(lambda x: x.replace('ê', 'e'))\n",
    "data['title'] = data['title'].apply(lambda x: x.replace(\"'\", \"\"))\n",
    "data['description'] = data['description'].apply(lambda x: x.replace(\"'\", \"\"))\n",
    "for i in range(len(data)):\n",
    "    data['description'] = data['description'].apply(lambda x: x.replace('ê', 'e'))\n",
    "    if '[' in data.loc[i,'title'] and ']' in data.loc[i,'title']:\n",
    "        data.loc[i,'title'] = data.loc[i,'title'].split('<![CDATA[')[1].split(']')[0] \n",
    "    if '[' in data.loc[i,'description'] and ']' in data.loc[i,'description']:\n",
    "        data.loc[i,'description'] = data.loc[i,'description'].split('<![CDATA[')[1].split(']')[0] \n",
    "    else:\n",
    "        data.loc[i,'title'] = data.loc[i,'title']\n",
    "        data.loc[i,'description'] = data.loc[i,'description']"
   ]
  },
  {
   "cell_type": "code",
   "execution_count": null,
   "metadata": {},
   "outputs": [],
   "source": [
    "#Classement des articles par ordre décroissant (plus récents en premier)\n",
    "data['pubDate'] = pd.to_datetime(data['pubDate'], format='%a, %d %b %Y %H:%M:%S %z')\n",
    "data = data.sort_values('pubDate', ascending=False)\n",
    "data = data.reset_index(drop=True)"
   ]
  },
  {
   "cell_type": "code",
   "execution_count": null,
   "metadata": {},
   "outputs": [],
   "source": [
    "data"
   ]
  },
  {
   "cell_type": "code",
   "execution_count": null,
   "metadata": {},
   "outputs": [],
   "source": [
    "# Configure Kafka\n",
    "bootstrap_servers = ['localhost:9092']\n",
    "topic = 'your_kafka_topic'\n",
    "producer = KafkaProducer(bootstrap_servers=bootstrap_servers)\n",
    "\n",
    "# Configure Cassandra\n",
    "contact_points = ['localhost']\n",
    "auth_provider = PlainTextAuthProvider(username='cassandra', password='cassandra')\n",
    "cluster = Cluster(contact_points=contact_points, auth_provider=auth_provider)\n",
    "session = cluster.connect()\n",
    "\n",
    "\n",
    "# Envoie du dataFrame vers Kafka\n",
    "serialized_df = data.to_json().encode('utf-8')  # encode the JSON string to bytes\n",
    "producer.send(topic, value=serialized_df)\n",
    "\n",
    "# Le dataFrame est ensuite stocké dans la base de données Cassandra\n",
    "session.execute(\"CREATE KEYSPACE IF NOT EXISTS your_keyspace WITH REPLICATION = {'class' : 'SimpleStrategy', 'replication_factor' : 1}\")\n",
    "session.execute(\"USE your_keyspace\")\n",
    "session.execute(\"CREATE TABLE IF NOT EXISTS RSS (title text, pubdate text, link text, description text, PRIMARY KEY(feed_id, pubdate)) WITH CLUSTERING ORDER BY (pubdate DESC)\")\n",
    "\n",
    "for _, row in data.iterrows():\n",
    "    session.execute(f\"INSERT INTO RSS (title, pubdate, link, description) VALUES ('{row['title']}', '{row['pubDate']}', '{row['link']}', '{row['description']}')\")"
   ]
  },
  {
   "cell_type": "code",
   "execution_count": null,
   "metadata": {},
   "outputs": [],
   "source": [
    "rows = session.execute(\"SELECT * FROM RSS\")\n",
    "for row in rows:\n",
    "    print(row.link)"
   ]
  },
  {
   "cell_type": "code",
   "execution_count": null,
   "metadata": {},
   "outputs": [],
   "source": [
    "#Ferme la connection\n",
    "def close_connection():\n",
    "    producer.flush()\n",
    "    producer.close()\n",
    "    session.shutdown()\n",
    "    cluster.shutdown()\n",
    "    producer.flush()\n",
    "    producer.close()\n",
    "    session.shutdown()\n",
    "    cluster.shutdown()"
   ]
  },
  {
   "cell_type": "code",
   "execution_count": null,
   "metadata": {},
   "outputs": [],
   "source": [
    "#Suppression des données dans la basse de données\n",
    "def delete_data():\n",
    "    session.execute(\"DESCRIBE KEYSPACES;\")\n",
    "    session.execute(\"USE your_keyspace;\")\n",
    "    session.execute(\"DESCRIBE TABLES;\")\n",
    "    session.execute(\"TRUNCATE RSS\")"
   ]
  },
  {
   "cell_type": "code",
   "execution_count": null,
   "metadata": {},
   "outputs": [],
   "source": [
    "delete_data()"
   ]
  }
 ],
 "metadata": {
  "kernelspec": {
   "display_name": "Python 3",
   "language": "python",
   "name": "python3"
  },
  "language_info": {
   "codemirror_mode": {
    "name": "ipython",
    "version": 3
   },
   "file_extension": ".py",
   "mimetype": "text/x-python",
   "name": "python",
   "nbconvert_exporter": "python",
   "pygments_lexer": "ipython3",
   "version": "3.11.1"
  },
  "orig_nbformat": 4
 },
 "nbformat": 4,
 "nbformat_minor": 2
}
